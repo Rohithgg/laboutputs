{
 "cells": [
  {
   "cell_type": "code",
   "id": "initial_id",
   "metadata": {
    "collapsed": true,
    "ExecuteTime": {
     "end_time": "2024-04-22T08:11:07.432106Z",
     "start_time": "2024-04-22T08:10:33.727466Z"
    }
   },
   "source": [
    "#stack\n",
    "def push(stack, add):\n",
    "    stack.append(add)\n",
    "    return stack\n",
    "\n",
    "def pop(stack):\n",
    "    stack.pop(-1)\n",
    "    return stack\n",
    "    \n",
    "def isempty(stack):\n",
    "    if stack is None:\n",
    "        return True\n",
    "    else:\n",
    "        return False\n",
    "    \n",
    "def top(stack):\n",
    "    return stack[-1]\n",
    "\n",
    "def size(stack):\n",
    "    return len(stack)\n",
    "\n",
    "\n",
    "stack = list(map(int, input(\"enter stack: \").split()))\n",
    "type_input = list(map(str, input(\"enter function: \").split()))\n",
    "print(stack)\n",
    "print(type_input)\n",
    "for func in range(len(type_input)):\n",
    "    if type_input[func] == 'push':\n",
    "        add = int(input(\"push number\"))\n",
    "        print(push(stack, add))\n",
    "    elif type_input[func] == 'pop':\n",
    "        print(pop(stack))\n",
    "    elif type_input[func] == 'is empty':\n",
    "        print(isempty(stack))\n",
    "    elif type_input[func] == 'top':\n",
    "        print(top(stack))\n",
    "    elif type_input[func] == 'size':\n",
    "        print(size(stack))\n"
   ],
   "outputs": [
    {
     "name": "stdout",
     "output_type": "stream",
     "text": [
      "[1, 2, 3, 4, 5]\n",
      "['push']\n",
      "[1, 2, 3, 4, 5, 69]\n"
     ]
    }
   ],
   "execution_count": 1
  },
  {
   "metadata": {
    "ExecuteTime": {
     "end_time": "2024-04-18T16:58:34.426152Z",
     "start_time": "2024-04-18T16:58:24.705545Z"
    }
   },
   "cell_type": "code",
   "source": [
    "#balanced\n",
    "def balanced(para):\n",
    "    stack = []\n",
    "    for i in para:\n",
    "        if i in ['{','(','[']:\n",
    "            stack.append(i)\n",
    "        else:\n",
    "            if not stack:\n",
    "                return False\n",
    "            prev = stack.pop()\n",
    "            if prev == '{':\n",
    "                if i != '}':\n",
    "                    return False\n",
    "            if prev == '(':\n",
    "                if i != ')':\n",
    "                    return False\n",
    "            if prev == '[':\n",
    "                if i != ']':\n",
    "                    return False\n",
    "    if stack:\n",
    "        return False\n",
    "    return True\n",
    "# main\n",
    "para = list(map(str,input('enter parenthesis :')))\n",
    "print('Balanced' if balanced(para) else 'Unbalanced')"
   ],
   "id": "60127449c76f6aa6",
   "outputs": [
    {
     "name": "stdout",
     "output_type": "stream",
     "text": [
      "Unbalanced\n"
     ]
    }
   ],
   "execution_count": 1
  },
  {
   "metadata": {
    "ExecuteTime": {
     "end_time": "2024-07-05T14:33:04.335149Z",
     "start_time": "2024-07-05T14:33:01.383323Z"
    }
   },
   "cell_type": "code",
   "source": [
    "def eval(stack):\n",
    "    s = []\n",
    "    for i in stack:\n",
    "        if i.isdigit():\n",
    "            s.append(int(i))\n",
    "        else:\n",
    "            b = s.pop()\n",
    "            a = s.pop()\n",
    "            if i == '+':\n",
    "                s.append(a + b)\n",
    "            elif i == '-':\n",
    "                s.append(a - b)\n",
    "            elif i == '*':\n",
    "                s.append(a * b)\n",
    "            elif i == '/':\n",
    "                s.append(round(a / b))\n",
    "    return s.pop()\n",
    "# main\n",
    "stack = input('enter stack :')\n",
    "print(eval(stack))\n",
    "#fix this code this a post fix code\n"
   ],
   "id": "ab34c6b0398772bb",
   "outputs": [
    {
     "ename": "IndexError",
     "evalue": "pop from empty list",
     "output_type": "error",
     "traceback": [
      "\u001B[1;31m---------------------------------------------------------------------------\u001B[0m",
      "\u001B[1;31mIndexError\u001B[0m                                Traceback (most recent call last)",
      "\u001B[1;32m<ipython-input-11-8914ceada6a5>\u001B[0m in \u001B[0;36m<module>\u001B[1;34m\u001B[0m\n\u001B[0;32m     18\u001B[0m \u001B[1;31m# main\u001B[0m\u001B[1;33m\u001B[0m\u001B[1;33m\u001B[0m\u001B[1;33m\u001B[0m\u001B[0m\n\u001B[0;32m     19\u001B[0m \u001B[0mstack\u001B[0m \u001B[1;33m=\u001B[0m \u001B[0minput\u001B[0m\u001B[1;33m(\u001B[0m\u001B[1;34m'enter stack :'\u001B[0m\u001B[1;33m)\u001B[0m\u001B[1;33m\u001B[0m\u001B[1;33m\u001B[0m\u001B[0m\n\u001B[1;32m---> 20\u001B[1;33m \u001B[0mprint\u001B[0m\u001B[1;33m(\u001B[0m\u001B[0meval\u001B[0m\u001B[1;33m(\u001B[0m\u001B[0mstack\u001B[0m\u001B[1;33m)\u001B[0m\u001B[1;33m)\u001B[0m\u001B[1;33m\u001B[0m\u001B[1;33m\u001B[0m\u001B[0m\n\u001B[0m\u001B[0;32m     21\u001B[0m \u001B[1;31m#fix this code this a post fix code\u001B[0m\u001B[1;33m\u001B[0m\u001B[1;33m\u001B[0m\u001B[1;33m\u001B[0m\u001B[0m\n\u001B[0;32m     22\u001B[0m \u001B[1;33m\u001B[0m\u001B[0m\n",
      "\u001B[1;32m<ipython-input-11-8914ceada6a5>\u001B[0m in \u001B[0;36meval\u001B[1;34m(stack)\u001B[0m\n\u001B[0;32m      6\u001B[0m         \u001B[1;32melse\u001B[0m\u001B[1;33m:\u001B[0m\u001B[1;33m\u001B[0m\u001B[1;33m\u001B[0m\u001B[0m\n\u001B[0;32m      7\u001B[0m             \u001B[0mb\u001B[0m \u001B[1;33m=\u001B[0m \u001B[0ms\u001B[0m\u001B[1;33m.\u001B[0m\u001B[0mpop\u001B[0m\u001B[1;33m(\u001B[0m\u001B[1;33m)\u001B[0m\u001B[1;33m\u001B[0m\u001B[1;33m\u001B[0m\u001B[0m\n\u001B[1;32m----> 8\u001B[1;33m             \u001B[0ma\u001B[0m \u001B[1;33m=\u001B[0m \u001B[0ms\u001B[0m\u001B[1;33m.\u001B[0m\u001B[0mpop\u001B[0m\u001B[1;33m(\u001B[0m\u001B[1;33m)\u001B[0m\u001B[1;33m\u001B[0m\u001B[1;33m\u001B[0m\u001B[0m\n\u001B[0m\u001B[0;32m      9\u001B[0m             \u001B[1;32mif\u001B[0m \u001B[0mi\u001B[0m \u001B[1;33m==\u001B[0m \u001B[1;34m'+'\u001B[0m\u001B[1;33m:\u001B[0m\u001B[1;33m\u001B[0m\u001B[1;33m\u001B[0m\u001B[0m\n\u001B[0;32m     10\u001B[0m                 \u001B[0ms\u001B[0m\u001B[1;33m.\u001B[0m\u001B[0mappend\u001B[0m\u001B[1;33m(\u001B[0m\u001B[0ma\u001B[0m \u001B[1;33m+\u001B[0m \u001B[0mb\u001B[0m\u001B[1;33m)\u001B[0m\u001B[1;33m\u001B[0m\u001B[1;33m\u001B[0m\u001B[0m\n",
      "\u001B[1;31mIndexError\u001B[0m: pop from empty list"
     ]
    }
   ],
   "execution_count": 11
  },
  {
   "metadata": {},
   "cell_type": "code",
   "outputs": [],
   "execution_count": null,
   "source": "",
   "id": "24b1ba793350c6bf"
  }
 ],
 "metadata": {
  "kernelspec": {
   "display_name": "Python 3",
   "language": "python",
   "name": "python3"
  },
  "language_info": {
   "codemirror_mode": {
    "name": "ipython",
    "version": 2
   },
   "file_extension": ".py",
   "mimetype": "text/x-python",
   "name": "python",
   "nbconvert_exporter": "python",
   "pygments_lexer": "ipython2",
   "version": "2.7.6"
  }
 },
 "nbformat": 4,
 "nbformat_minor": 5
}
