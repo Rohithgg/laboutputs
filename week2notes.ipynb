{
 "cells": [
  {
   "cell_type": "code",
   "id": "initial_id",
   "metadata": {
    "collapsed": true,
    "ExecuteTime": {
     "end_time": "2024-04-08T14:09:09.434869Z",
     "start_time": "2024-04-08T14:09:09.272595Z"
    }
   },
   "source": [
    "import numpy as np\n",
    "# try to do the original not numpy"
   ],
   "outputs": [],
   "execution_count": 2
  },
  {
   "metadata": {
    "ExecuteTime": {
     "end_time": "2024-04-08T14:09:10.404209Z",
     "start_time": "2024-04-08T14:09:10.391211Z"
    }
   },
   "cell_type": "code",
   "source": [
    "#add\n",
    "m1 = [[1,2,3],\n",
    "      [4,5,6],\n",
    "      [7,8,9]\n",
    "]\n",
    "# make it input type\n",
    "m2 = [[9,8,7],\n",
    "      [6,5,4],\n",
    "      [3,2,1]\n",
    "]\n",
    "print(np.add(m1,m2))"
   ],
   "id": "3a17786cedb11f86",
   "outputs": [
    {
     "name": "stdout",
     "output_type": "stream",
     "text": [
      "[[10 10 10]\n",
      " [10 10 10]\n",
      " [10 10 10]]\n"
     ]
    }
   ],
   "execution_count": 3
  },
  {
   "metadata": {
    "ExecuteTime": {
     "end_time": "2024-04-08T14:09:43.558136Z",
     "start_time": "2024-04-08T14:09:43.551929Z"
    }
   },
   "cell_type": "code",
   "source": [
    "#multi\n",
    "print(np.multiply(m1,m2))"
   ],
   "id": "275c3f2706e3777",
   "outputs": [
    {
     "name": "stdout",
     "output_type": "stream",
     "text": [
      "[[ 9 16 21]\n",
      " [24 25 24]\n",
      " [21 16  9]]\n"
     ]
    }
   ],
   "execution_count": 4
  },
  {
   "metadata": {
    "ExecuteTime": {
     "end_time": "2024-04-08T14:15:05.979304Z",
     "start_time": "2024-04-08T14:15:05.966260Z"
    }
   },
   "cell_type": "code",
   "source": [
    "#transpose\n",
    "trans = [[1,2],\n",
    "         [3,4],\n",
    "         [5,6]]\n",
    "print(np.transpose(trans))"
   ],
   "id": "ee0506c67db79b82",
   "outputs": [
    {
     "name": "stdout",
     "output_type": "stream",
     "text": [
      "[[1 3 5]\n",
      " [2 4 6]]\n"
     ]
    }
   ],
   "execution_count": 8
  },
  {
   "metadata": {},
   "cell_type": "code",
   "outputs": [],
   "execution_count": null,
   "source": "# matrix product",
   "id": "b637208029fc608e"
  }
 ],
 "metadata": {
  "kernelspec": {
   "display_name": "Python 3",
   "language": "python",
   "name": "python3"
  },
  "language_info": {
   "codemirror_mode": {
    "name": "ipython",
    "version": 2
   },
   "file_extension": ".py",
   "mimetype": "text/x-python",
   "name": "python",
   "nbconvert_exporter": "python",
   "pygments_lexer": "ipython2",
   "version": "2.7.6"
  }
 },
 "nbformat": 4,
 "nbformat_minor": 5
}
