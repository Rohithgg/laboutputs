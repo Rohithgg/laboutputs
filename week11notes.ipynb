{
 "cells": [
  {
   "metadata": {},
   "cell_type": "markdown",
   "source": "example equation f(x) = x^2",
   "id": "ea2cd90335f26f14"
  },
  {
   "metadata": {
    "ExecuteTime": {
     "end_time": "2024-08-11T13:35:08.319024Z",
     "start_time": "2024-08-11T13:35:08.269960Z"
    }
   },
   "cell_type": "code",
   "source": [
    "#bisection\n",
    "def bisection(f, a, b):\n",
    "    tol = 1e-6\n",
    "    if f(a) * f(b) >= 0:\n",
    "        raise ValueError(\"different sign at a and b\")\n",
    "    c = (b - a)/2.0\n",
    "    while c > tol:        \n",
    "        if f(c) == 0:\n",
    "            return c\n",
    "        elif f(c) > 0:\n",
    "            c = a\n",
    "        else:\n",
    "            c = b\n",
    "    return (a + b)/2.0\n",
    "#main\n",
    "if __name__ == \"__main__\" :\n",
    "    def f(x):\n",
    "        return x**3 - x -2\n",
    "print(bisection(f,0, 2))"
   ],
   "id": "e5a15fbb051fe715",
   "outputs": [
    {
     "name": "stdout",
     "output_type": "stream",
     "text": [
      "1.0\n"
     ]
    }
   ],
   "execution_count": 1
  },
  {
   "metadata": {
    "jupyter": {
     "is_executing": true
    },
    "ExecuteTime": {
     "start_time": "2024-08-11T13:54:00.867432Z"
    }
   },
   "cell_type": "code",
   "source": [
    "def fasi(f, a, b):\n",
    "    tol = 1e-6\n",
    "    while abs(b - a)/2.0 > tol:\n",
    "        fa = ((a * f(b)) + (b * f(a))) /(f(b) - f(a))\n",
    "        if abs(f(fa)) < tol:\n",
    "            return fa\n",
    "        elif f(a) * f(fa) < 0:\n",
    "            b = fa\n",
    "        else:\n",
    "            a = fa\n",
    "    return (a + b)/2.0\n",
    "print(fasi(f, 0, 2))\n",
    "        "
   ],
   "id": "cf6e13b9303f799c",
   "outputs": [],
   "execution_count": null
  },
  {
   "metadata": {},
   "cell_type": "code",
   "outputs": [],
   "execution_count": null,
   "source": "",
   "id": "c148908d81cef286"
  }
 ],
 "metadata": {
  "kernelspec": {
   "display_name": "Python 3",
   "language": "python",
   "name": "python3"
  },
  "language_info": {
   "codemirror_mode": {
    "name": "ipython",
    "version": 2
   },
   "file_extension": ".py",
   "mimetype": "text/x-python",
   "name": "python",
   "nbconvert_exporter": "python",
   "pygments_lexer": "ipython2",
   "version": "2.7.6"
  }
 },
 "nbformat": 4,
 "nbformat_minor": 5
}
