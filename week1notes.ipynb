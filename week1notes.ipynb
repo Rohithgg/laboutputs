{
 "cells": [
  {
   "cell_type": "code",
   "id": "initial_id",
   "metadata": {
    "collapsed": true,
    "ExecuteTime": {
     "end_time": "2024-06-06T16:56:31.732780Z",
     "start_time": "2024-06-06T16:56:25.356792Z"
    }
   },
   "source": [
    "from typing import List\n",
    "\n",
    "\n",
    "def twosum(nums: List[int], target: int) -> List[int]:\n",
    "    a = [nums]\n",
    "    for i in range(len(nums)):\n",
    "        for j in range(i + 1, len(nums)):\n",
    "            if nums[i] + nums[j] == target:\n",
    "                return [i, j]\n",
    "\n",
    "\n",
    "a = list(map(int, input().split()))\n",
    "\n",
    "target = int(input())\n",
    "ans = twosum(a, target)\n",
    "print(ans)\n"
   ],
   "outputs": [
    {
     "ename": "ValueError",
     "evalue": "invalid literal for int() with base 10: ''",
     "output_type": "error",
     "traceback": [
      "\u001B[1;31m---------------------------------------------------------------------------\u001B[0m",
      "\u001B[1;31mValueError\u001B[0m                                Traceback (most recent call last)",
      "\u001B[1;32m<ipython-input-2-70d74fd7e73b>\u001B[0m in \u001B[0;36m<module>\u001B[1;34m\u001B[0m\n\u001B[0;32m     12\u001B[0m \u001B[0ma\u001B[0m \u001B[1;33m=\u001B[0m \u001B[0mlist\u001B[0m\u001B[1;33m(\u001B[0m\u001B[0mmap\u001B[0m\u001B[1;33m(\u001B[0m\u001B[0mint\u001B[0m\u001B[1;33m,\u001B[0m \u001B[0minput\u001B[0m\u001B[1;33m(\u001B[0m\u001B[1;33m)\u001B[0m\u001B[1;33m.\u001B[0m\u001B[0msplit\u001B[0m\u001B[1;33m(\u001B[0m\u001B[1;33m)\u001B[0m\u001B[1;33m)\u001B[0m\u001B[1;33m)\u001B[0m\u001B[1;33m\u001B[0m\u001B[1;33m\u001B[0m\u001B[0m\n\u001B[0;32m     13\u001B[0m \u001B[1;33m\u001B[0m\u001B[0m\n\u001B[1;32m---> 14\u001B[1;33m \u001B[0mtarget\u001B[0m \u001B[1;33m=\u001B[0m \u001B[0mint\u001B[0m\u001B[1;33m(\u001B[0m\u001B[0minput\u001B[0m\u001B[1;33m(\u001B[0m\u001B[1;33m)\u001B[0m\u001B[1;33m)\u001B[0m\u001B[1;33m\u001B[0m\u001B[1;33m\u001B[0m\u001B[0m\n\u001B[0m\u001B[0;32m     15\u001B[0m \u001B[0mans\u001B[0m \u001B[1;33m=\u001B[0m \u001B[0mtwosum\u001B[0m\u001B[1;33m(\u001B[0m\u001B[0ma\u001B[0m\u001B[1;33m,\u001B[0m \u001B[0mtarget\u001B[0m\u001B[1;33m)\u001B[0m\u001B[1;33m\u001B[0m\u001B[1;33m\u001B[0m\u001B[0m\n\u001B[0;32m     16\u001B[0m \u001B[0mprint\u001B[0m\u001B[1;33m(\u001B[0m\u001B[0mans\u001B[0m\u001B[1;33m)\u001B[0m\u001B[1;33m\u001B[0m\u001B[1;33m\u001B[0m\u001B[0m\n",
      "\u001B[1;31mValueError\u001B[0m: invalid literal for int() with base 10: ''"
     ]
    }
   ],
   "execution_count": 2
  },
  {
   "metadata": {
    "ExecuteTime": {
     "end_time": "2024-04-25T05:14:38.751465Z",
     "start_time": "2024-04-25T05:14:35.913102Z"
    }
   },
   "cell_type": "code",
   "source": [
    "c = input()\n",
    "if c is not int:\n",
    "    print(c)\n",
    "else:\n",
    "    print('no')"
   ],
   "id": "448e73d0a95f8439",
   "outputs": [
    {
     "name": "stdout",
     "output_type": "stream",
     "text": [
      "hello'\n"
     ]
    }
   ],
   "execution_count": 6
  },
  {
   "cell_type": "code",
   "source": [
    "def dup(nums: List[int]):\n",
    "    a = set()\n",
    "    for num in nums:\n",
    "        if num in a:\n",
    "            return True\n",
    "        a.add(num)\n",
    "    return False\n",
    "ans = list(map(int, input().split()))\n",
    "print(dup(ans))\n",
    "print(ans)"
   ],
   "metadata": {
    "collapsed": false,
    "ExecuteTime": {
     "end_time": "2024-04-22T09:44:46.923269Z",
     "start_time": "2024-04-22T09:44:43.923633Z"
    }
   },
   "id": "2b4c17374259a7f8",
   "outputs": [
    {
     "name": "stdout",
     "output_type": "stream",
     "text": [
      "True\n",
      "[1, 2, 3, 3]\n"
     ]
    }
   ],
   "execution_count": 5
  },
  {
   "cell_type": "code",
   "source": [
    "from typing import List\n",
    "def plus_one(digits: List[int]):\n",
    "    nums = \"\"\n",
    "    for x in digits:\n",
    "        nums +=str(x)\n",
    "    secnums = int(nums)        \n",
    "        \n",
    "    que = []\n",
    "    \n",
    "    secnums += 1\n",
    "    for i in str(secnums):\n",
    "        que.append(int(i))\n",
    "    return que\n",
    "# main\n",
    "digi = list(map(int, input().split()))\n",
    "\n",
    "print( \", \".join( repr(e) for e in (plus_one(digi))))"
   ],
   "metadata": {
    "collapsed": false,
    "ExecuteTime": {
     "end_time": "2024-06-03T11:04:13.816781Z",
     "start_time": "2024-06-03T11:04:09.856120Z"
    }
   },
   "id": "ef793c01c4da6e48",
   "outputs": [
    {
     "name": "stdout",
     "output_type": "stream",
     "text": [
      "1, 2, 4\n"
     ]
    }
   ],
   "execution_count": 11
  },
  {
   "cell_type": "code",
   "source": [
    "from collections import Counter\n",
    "def major(nums: List[int]) -> List[int]:\n",
    "    a = Counter(nums)\n",
    "    majority = [num for num,count in a.items() if count > len(nums) / 2]\n",
    "    return majority\n",
    "\n",
    "#or maybe this one\n",
    "\n",
    "def major2(nums: List[int]) -> List[int]:\n",
    "    n = []\n",
    "    for i in range(len(nums)):\n",
    "        if nums[i] == len(nums)/2:\n",
    "            n.append(i)\n",
    "    return n\n",
    "#main\n",
    "nums = list(map(int, input().split()))\n",
    "print(major(nums))"
   ],
   "metadata": {
    "collapsed": false,
    "ExecuteTime": {
     "end_time": "2024-06-06T17:05:12.163067Z",
     "start_time": "2024-06-06T17:05:08.181389Z"
    }
   },
   "id": "56413957ed850fc4",
   "outputs": [
    {
     "name": "stdout",
     "output_type": "stream",
     "text": [
      "[1]\n"
     ]
    }
   ],
   "execution_count": 6
  },
  {
   "cell_type": "code",
   "source": [
    "def MaxWealth(acc: List[int]):\n",
    "    maxwel = []\n",
    "    for i in acc:\n",
    "        \n",
    "                \n",
    "        \n",
    "    "
   ],
   "metadata": {
    "collapsed": false,
    "jupyter": {
     "is_executing": true
    }
   },
   "id": "a018bf3a8e03315b",
   "outputs": [],
   "execution_count": null
  },
  {
   "cell_type": "code",
   "source": [
    "def devsteps(n: int):\n",
    "    steps = 0\n",
    "    while n > 0:\n",
    "        if n%2 == 0:\n",
    "            n // 2\n",
    "            steps+=1\n",
    "        else:\n",
    "            n-=1\n",
    "            steps+=1\n",
    "    return steps\n",
    "ans = int(input())\n",
    "print(devsteps(ans))"
   ],
   "metadata": {
    "collapsed": false,
    "is_executing": true,
    "jupyter": {
     "is_executing": true
    }
   },
   "id": "3d73c89cdfe0c345",
   "outputs": [],
   "execution_count": null
  },
  {
   "metadata": {
    "jupyter": {
     "is_executing": true
    }
   },
   "cell_type": "code",
   "source": [
    "def roman(s: str) -> str:\n",
    "    rom = {\n",
    "        'I': 1,\n",
    "        'V': 5,\n",
    "        'X': 10,\n",
    "        'L': 50,\n",
    "        'C': 100,\n",
    "        'D': 500,\n",
    "        'M': 1000\n",
    "    }\n",
    "    total = 0\n",
    "    prev = 0\n",
    "    for letter in s:\n",
    "        total = total + rom[letter]\n",
    "        if rom[letter] > prev:\n",
    "            total = total - 2 * prev\n",
    "            prev = rom[letter]\n",
    "    return total\n",
    "\n",
    "\n",
    "inputs = input(\"enter roman: \")\n",
    "print(roman(inputs))"
   ],
   "id": "22954ae23ca40af8",
   "outputs": [],
   "execution_count": null
  }
 ],
 "metadata": {
  "kernelspec": {
   "display_name": "Python 3",
   "language": "python",
   "name": "python3"
  },
  "language_info": {
   "codemirror_mode": {
    "name": "ipython",
    "version": 2
   },
   "file_extension": ".py",
   "mimetype": "text/x-python",
   "name": "python",
   "nbconvert_exporter": "python",
   "pygments_lexer": "ipython2",
   "version": "2.7.6"
  }
 },
 "nbformat": 4,
 "nbformat_minor": 5
}
