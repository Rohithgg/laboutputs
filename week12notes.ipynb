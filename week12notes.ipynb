{
 "cells": [
  {
   "cell_type": "code",
   "id": "initial_id",
   "metadata": {
    "collapsed": true,
    "ExecuteTime": {
     "end_time": "2024-08-11T08:03:31.313481Z",
     "start_time": "2024-08-11T08:03:31.297958Z"
    }
   },
   "source": [
    "#euler\n",
    "def euler(x0, y0, x, h):\n",
    "    y = y0\n",
    "    while x0 < x:\n",
    "        y = y + h * (y) # h(x_n,y_n) be the function\n",
    "        x0 = x0 + h\n",
    "    return round(y, 3)\n",
    "print(euler(0, 1, 1, 0.1))\n",
    "        "
   ],
   "outputs": [
    {
     "name": "stdout",
     "output_type": "stream",
     "text": [
      "2.853\n"
     ]
    }
   ],
   "execution_count": 30
  },
  {
   "metadata": {
    "ExecuteTime": {
     "end_time": "2024-08-11T12:58:00.864418Z",
     "start_time": "2024-08-11T12:57:42.162515Z"
    }
   },
   "cell_type": "code",
   "source": [
    "# calculate h\n",
    "def calh(a, b, n):\n",
    "    h = (a - b) / n\n",
    "    return h\n",
    "n = int(input())\n",
    "a = int(input())\n",
    "b = int(input())\n",
    "\n",
    "coeff = list(map(int, input().split(\", \")))\n",
    "#equation\n",
    "def f(x, coeff):\n",
    "    fx = 0\n",
    "    order = len(coeff)\n",
    "    for i in range(order):\n",
    "        fx += coeff[i] * x ** (order - i - 1)\n",
    "    return round(fx, 4)\n",
    "# x and y\n",
    "h = calh(a, b, n)\n",
    "x = [a+ i * h for i in range(n+1)]\n",
    "y = [f(x, coeff) for xi in x]"
   ],
   "id": "50a668ad3b5061c0",
   "outputs": [
    {
     "ename": "TypeError",
     "evalue": "unsupported operand type(s) for ** or pow(): 'list' and 'int'",
     "output_type": "error",
     "traceback": [
      "\u001B[1;31m---------------------------------------------------------------------------\u001B[0m",
      "\u001B[1;31mTypeError\u001B[0m                                 Traceback (most recent call last)",
      "\u001B[1;32m<ipython-input-36-6291a76c69a0>\u001B[0m in \u001B[0;36m<module>\u001B[1;34m\u001B[0m\n\u001B[0;32m     18\u001B[0m \u001B[0mh\u001B[0m \u001B[1;33m=\u001B[0m \u001B[0mcalh\u001B[0m\u001B[1;33m(\u001B[0m\u001B[0ma\u001B[0m\u001B[1;33m,\u001B[0m \u001B[0mb\u001B[0m\u001B[1;33m,\u001B[0m \u001B[0mn\u001B[0m\u001B[1;33m)\u001B[0m\u001B[1;33m\u001B[0m\u001B[1;33m\u001B[0m\u001B[0m\n\u001B[0;32m     19\u001B[0m \u001B[0mx\u001B[0m \u001B[1;33m=\u001B[0m \u001B[1;33m[\u001B[0m\u001B[0ma\u001B[0m\u001B[1;33m+\u001B[0m \u001B[0mi\u001B[0m \u001B[1;33m*\u001B[0m \u001B[0mh\u001B[0m \u001B[1;32mfor\u001B[0m \u001B[0mi\u001B[0m \u001B[1;32min\u001B[0m \u001B[0mrange\u001B[0m\u001B[1;33m(\u001B[0m\u001B[0mn\u001B[0m\u001B[1;33m+\u001B[0m\u001B[1;36m1\u001B[0m\u001B[1;33m)\u001B[0m\u001B[1;33m]\u001B[0m\u001B[1;33m\u001B[0m\u001B[1;33m\u001B[0m\u001B[0m\n\u001B[1;32m---> 20\u001B[1;33m \u001B[0my\u001B[0m \u001B[1;33m=\u001B[0m \u001B[1;33m[\u001B[0m\u001B[0mf\u001B[0m\u001B[1;33m(\u001B[0m\u001B[0mx\u001B[0m\u001B[1;33m,\u001B[0m \u001B[0mcoeff\u001B[0m\u001B[1;33m)\u001B[0m \u001B[1;32mfor\u001B[0m \u001B[0mxi\u001B[0m \u001B[1;32min\u001B[0m \u001B[0mx\u001B[0m\u001B[1;33m]\u001B[0m\u001B[1;33m\u001B[0m\u001B[1;33m\u001B[0m\u001B[0m\n\u001B[0m",
      "\u001B[1;32m<ipython-input-36-6291a76c69a0>\u001B[0m in \u001B[0;36m<listcomp>\u001B[1;34m(.0)\u001B[0m\n\u001B[0;32m     18\u001B[0m \u001B[0mh\u001B[0m \u001B[1;33m=\u001B[0m \u001B[0mcalh\u001B[0m\u001B[1;33m(\u001B[0m\u001B[0ma\u001B[0m\u001B[1;33m,\u001B[0m \u001B[0mb\u001B[0m\u001B[1;33m,\u001B[0m \u001B[0mn\u001B[0m\u001B[1;33m)\u001B[0m\u001B[1;33m\u001B[0m\u001B[1;33m\u001B[0m\u001B[0m\n\u001B[0;32m     19\u001B[0m \u001B[0mx\u001B[0m \u001B[1;33m=\u001B[0m \u001B[1;33m[\u001B[0m\u001B[0ma\u001B[0m\u001B[1;33m+\u001B[0m \u001B[0mi\u001B[0m \u001B[1;33m*\u001B[0m \u001B[0mh\u001B[0m \u001B[1;32mfor\u001B[0m \u001B[0mi\u001B[0m \u001B[1;32min\u001B[0m \u001B[0mrange\u001B[0m\u001B[1;33m(\u001B[0m\u001B[0mn\u001B[0m\u001B[1;33m+\u001B[0m\u001B[1;36m1\u001B[0m\u001B[1;33m)\u001B[0m\u001B[1;33m]\u001B[0m\u001B[1;33m\u001B[0m\u001B[1;33m\u001B[0m\u001B[0m\n\u001B[1;32m---> 20\u001B[1;33m \u001B[0my\u001B[0m \u001B[1;33m=\u001B[0m \u001B[1;33m[\u001B[0m\u001B[0mf\u001B[0m\u001B[1;33m(\u001B[0m\u001B[0mx\u001B[0m\u001B[1;33m,\u001B[0m \u001B[0mcoeff\u001B[0m\u001B[1;33m)\u001B[0m \u001B[1;32mfor\u001B[0m \u001B[0mxi\u001B[0m \u001B[1;32min\u001B[0m \u001B[0mx\u001B[0m\u001B[1;33m]\u001B[0m\u001B[1;33m\u001B[0m\u001B[1;33m\u001B[0m\u001B[0m\n\u001B[0m",
      "\u001B[1;32m<ipython-input-36-6291a76c69a0>\u001B[0m in \u001B[0;36mf\u001B[1;34m(x, coeff)\u001B[0m\n\u001B[0;32m     13\u001B[0m     \u001B[0morder\u001B[0m \u001B[1;33m=\u001B[0m \u001B[0mlen\u001B[0m\u001B[1;33m(\u001B[0m\u001B[0mcoeff\u001B[0m\u001B[1;33m)\u001B[0m\u001B[1;33m\u001B[0m\u001B[1;33m\u001B[0m\u001B[0m\n\u001B[0;32m     14\u001B[0m     \u001B[1;32mfor\u001B[0m \u001B[0mi\u001B[0m \u001B[1;32min\u001B[0m \u001B[0mrange\u001B[0m\u001B[1;33m(\u001B[0m\u001B[0morder\u001B[0m\u001B[1;33m)\u001B[0m\u001B[1;33m:\u001B[0m\u001B[1;33m\u001B[0m\u001B[1;33m\u001B[0m\u001B[0m\n\u001B[1;32m---> 15\u001B[1;33m         \u001B[0mfx\u001B[0m \u001B[1;33m+=\u001B[0m \u001B[0mcoeff\u001B[0m\u001B[1;33m[\u001B[0m\u001B[0mi\u001B[0m\u001B[1;33m]\u001B[0m \u001B[1;33m*\u001B[0m \u001B[0mx\u001B[0m \u001B[1;33m**\u001B[0m \u001B[1;33m(\u001B[0m\u001B[0morder\u001B[0m \u001B[1;33m-\u001B[0m \u001B[0mi\u001B[0m \u001B[1;33m-\u001B[0m \u001B[1;36m1\u001B[0m\u001B[1;33m)\u001B[0m\u001B[1;33m\u001B[0m\u001B[1;33m\u001B[0m\u001B[0m\n\u001B[0m\u001B[0;32m     16\u001B[0m     \u001B[1;32mreturn\u001B[0m \u001B[0mround\u001B[0m\u001B[1;33m(\u001B[0m\u001B[0mfx\u001B[0m\u001B[1;33m,\u001B[0m \u001B[1;36m4\u001B[0m\u001B[1;33m)\u001B[0m\u001B[1;33m\u001B[0m\u001B[1;33m\u001B[0m\u001B[0m\n\u001B[0;32m     17\u001B[0m \u001B[1;31m# x and y\u001B[0m\u001B[1;33m\u001B[0m\u001B[1;33m\u001B[0m\u001B[1;33m\u001B[0m\u001B[0m\n",
      "\u001B[1;31mTypeError\u001B[0m: unsupported operand type(s) for ** or pow(): 'list' and 'int'"
     ]
    }
   ],
   "execution_count": 36
  },
  {
   "metadata": {
    "ExecuteTime": {
     "end_time": "2024-08-11T12:55:08.331567Z",
     "start_time": "2024-08-11T12:55:08.300301Z"
    }
   },
   "cell_type": "code",
   "source": [
    "#simpshon 1/3\n",
    "def simp1(n,h):\n",
    "    res = y[0] + y[-1]\n",
    "    for i in range(1, n):\n",
    "       res += 2 * y[i] if i % 2 == 0 else 4 * y[i]\n",
    "    res *= h/3\n",
    "    return round(res, 4)\n",
    "reslt = simp1(n, calh(a, b, n))\n",
    "print(reslt)"
   ],
   "id": "de45ea049711636d",
   "outputs": [
    {
     "name": "stdout",
     "output_type": "stream",
     "text": [
      "-377.3333\n"
     ]
    }
   ],
   "execution_count": 34
  },
  {
   "metadata": {
    "ExecuteTime": {
     "end_time": "2024-08-11T14:14:43.182077Z",
     "start_time": "2024-08-11T14:14:32.590097Z"
    }
   },
   "cell_type": "code",
   "source": [
    "# Calculate step size\n",
    "def calh(a, b, n):\n",
    "    h = (b - a) / n\n",
    "    return h\n",
    "\n",
    "# Polynomial function\n",
    "def f(x, coeff):\n",
    "    fx = 0\n",
    "    order = len(coeff)\n",
    "    for i in range(order):\n",
    "        fx += coeff[i] * x ** (order - i - 1)\n",
    "    return fx\n",
    "\n",
    "# Simpson's 1/3 rule\n",
    "def simp1(n, a, b, coeff):\n",
    "    h = calh(a, b, n)\n",
    "    x = [a + i * h for i in range(n + 1)]\n",
    "    y = [f(xi, coeff) for xi in x]\n",
    "    \n",
    "    res = y[0] + y[-1]\n",
    "    for i in range(1, n):\n",
    "        res += 2 * y[i] if i % 2 == 0 else 4 * y[i]\n",
    "    res *= h / 3\n",
    "    return round(res, 4)\n",
    "\n",
    "# Input\n",
    "n = int(input())\n",
    "a = int(input())\n",
    "b = int(input())\n",
    "coeff = list(map(int, input().split(\", \")))\n",
    "\n",
    "# Calculate and print result\n",
    "result = simp1(n, a, b, coeff)\n",
    "print(result)"
   ],
   "id": "489e7408056d6290",
   "outputs": [
    {
     "name": "stdout",
     "output_type": "stream",
     "text": [
      "201.3333\n"
     ]
    }
   ],
   "execution_count": 37
  }
 ],
 "metadata": {
  "kernelspec": {
   "display_name": "Python 3",
   "language": "python",
   "name": "python3"
  },
  "language_info": {
   "codemirror_mode": {
    "name": "ipython",
    "version": 2
   },
   "file_extension": ".py",
   "mimetype": "text/x-python",
   "name": "python",
   "nbconvert_exporter": "python",
   "pygments_lexer": "ipython2",
   "version": "2.7.6"
  }
 },
 "nbformat": 4,
 "nbformat_minor": 5
}
