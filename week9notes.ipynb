{
 "cells": [
  {
   "cell_type": "code",
   "id": "initial_id",
   "metadata": {
    "collapsed": true,
    "ExecuteTime": {
     "end_time": "2024-08-11T12:25:07.608286Z",
     "start_time": "2024-08-11T12:24:49.778684Z"
    }
   },
   "source": [
    "nv, ne = map(int, input().split())\n",
    "edges = [list(map(int, input().split())) for _ in range(ne)]\n",
    "adj_list = {i: [] for i in range(nv)}\n",
    "for edge in edges:\n",
    "    adj_list[edge[0]].append(edge[1])\n",
    "\n",
    "start = int(input())\n"
   ],
   "outputs": [],
   "execution_count": 7
  },
  {
   "metadata": {
    "ExecuteTime": {
     "end_time": "2024-08-11T12:25:10.903373Z",
     "start_time": "2024-08-11T12:25:10.887740Z"
    }
   },
   "cell_type": "code",
   "source": [
    "#bfs\n",
    "def bfs(g,start):\n",
    "     visited = set()\n",
    "     queue = [start]\n",
    "     visited.add(start)\n",
    "     while queue:\n",
    "         vertex = queue.pop(0)\n",
    "         print(vertex, end=\" \")\n",
    "         for nighbor in g[vertex]:\n",
    "             if nighbor not in visited:\n",
    "                 visited.add(nighbor)\n",
    "                 queue.append(nighbor)\n",
    "                 \n",
    "bfs(adj_list, start) "
   ],
   "id": "908bbc90cc0db6be",
   "outputs": [
    {
     "name": "stdout",
     "output_type": "stream",
     "text": [
      "0 1 2 3 4 "
     ]
    }
   ],
   "execution_count": 8
  },
  {
   "metadata": {},
   "cell_type": "markdown",
   "source": "",
   "id": "218ad036c7319945"
  },
  {
   "metadata": {
    "ExecuteTime": {
     "end_time": "2024-08-11T12:32:20.368113Z",
     "start_time": "2024-08-11T12:32:20.352466Z"
    }
   },
   "cell_type": "code",
   "source": [
    "def dfs(g, start, visited = None):\n",
    "    if visited is None:\n",
    "        visited = set()\n",
    "    visited.add(start)\n",
    "    print(start, end=\" \")\n",
    "    for nighbor in g[start]:\n",
    "        if nighbor not in visited:\n",
    "            dfs(g, nighbor, visited)\n",
    "\n",
    "dfs(adj_list, start)"
   ],
   "id": "b1042e42c53eb9a7",
   "outputs": [
    {
     "name": "stdout",
     "output_type": "stream",
     "text": [
      "0 1 3 4 2 "
     ]
    }
   ],
   "execution_count": 10
  }
 ],
 "metadata": {
  "kernelspec": {
   "display_name": "Python 3",
   "language": "python",
   "name": "python3"
  },
  "language_info": {
   "codemirror_mode": {
    "name": "ipython",
    "version": 2
   },
   "file_extension": ".py",
   "mimetype": "text/x-python",
   "name": "python",
   "nbconvert_exporter": "python",
   "pygments_lexer": "ipython2",
   "version": "2.7.6"
  }
 },
 "nbformat": 4,
 "nbformat_minor": 5
}
