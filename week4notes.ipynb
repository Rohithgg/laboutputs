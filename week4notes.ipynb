{
 "cells": [
  {
   "cell_type": "code",
   "execution_count": null,
   "id": "initial_id",
   "metadata": {
    "collapsed": true
   },
   "outputs": [],
   "source": [
    "# queue\n",
    "def make_queue():\n",
    "    queue = []\n",
    "    return queue\n",
    "\n",
    "\n",
    "def enqueue(queue, value):\n",
    "    queue.append(value)\n",
    "    return queue\n",
    "\n",
    "\n",
    "def dequeue(queue):\n",
    "    queue.pop(1)\n",
    "    return queue\n",
    "\n",
    "\n",
    "def is_empty(queue):\n",
    "    if queue is None:\n",
    "        return 'is empty'\n",
    "    else:\n",
    "        return 'not empty'\n",
    "\n"
   ]
  },
  {
   "metadata": {
    "ExecuteTime": {
     "end_time": "2024-04-22T09:56:26.158132Z",
     "start_time": "2024-04-22T09:56:26.136310Z"
    }
   },
   "cell_type": "code",
   "source": [
    "#main\n",
    "n = int(input())\n",
    "s = input().split(', ')\n",
    "a = input().split(', ')\n",
    "queue =[]\n",
    "for i in range(len(s)):\n",
    "    if  (s[i] == 'add'):\n",
    "        queue.append(int(a[i]))\n",
    "    elif (s[i] == 'size'):\n",
    "        print(len(queue))\n",
    "    elif (s[i] == 'dequeue'):\n",
    "        queue.pop(0)\n",
    "    else:\n",
    "        print(*queue)\n"
   ],
   "id": "7d5a1db66370bb3b",
   "outputs": [
    {
     "name": "stdout",
     "output_type": "stream",
     "text": [
      "[1, 0, 0, 0]\n"
     ]
    }
   ],
   "execution_count": 25
  },
  {
   "metadata": {},
   "cell_type": "code",
   "outputs": [],
   "execution_count": null,
   "source": [
    "#linear queue using list\n",
    "n = int(input())\n",
    "c = input().split(', ')\n",
    "a = input().split(', ')\n",
    "stack = []\n",
    "for i in range(len(c)):\n",
    "    if c[i] == 'add':\n",
    "        if (len(stack) < n):\n",
    "            stack.append(int(a[i]))\n",
    "        else:\n",
    "            print(\"queue is full\")\n",
    "    elif c[i] == 'pop':\n",
    "        stack.pop(-1)\n",
    "    elif c[i] == 'size':\n",
    "        print(len(stack))\n",
    "    else:\n",
    "        s = reversed(stack)\n",
    "        print(*s)"
   ],
   "id": "c973f88727999e8f"
  },
  {
   "metadata": {},
   "cell_type": "code",
   "outputs": [],
   "execution_count": null,
   "source": [
    "# stack\n",
    "n = int(input())\n",
    "c = input().split(', ')\n",
    "a = input().split(', ')\n",
    "stack = []\n",
    "for i in range(len(c)):\n",
    "    if c[i] == 'add':\n",
    "        if (len(stack) < n):\n",
    "            stack.append(int(a[i]))\n",
    "        else:\n",
    "            print(\"queue is full\")\n",
    "    elif c[i] == 'pop':\n",
    "        stack.pop(-1)\n",
    "    elif c[i] == 'size':\n",
    "        print(len(stack))\n",
    "    else:\n",
    "        s = reversed(stack)\n",
    "        print(*s)"
   ],
   "id": "6263d6a402d37636"
  },
  {
   "metadata": {},
   "cell_type": "code",
   "outputs": [],
   "execution_count": null,
   "source": [
    "#genrate binary number 1 to n\n",
    "def dtob(n):\n",
    "    binary = format(int(n), 'b')\n",
    "    return binary\n",
    "    \n",
    "    \n",
    "n = int(input())\n",
    "if n == 0:\n",
    "    print(0)\n",
    "for i in range(1, n+1):\n",
    "    print(dtob(i))\n"
   ],
   "id": "bf72a8490807a1cd"
  },
  {
   "metadata": {},
   "cell_type": "code",
   "outputs": [],
   "execution_count": null,
   "source": [
    "# next greater element\n",
    "n = list(map(int, input().split(', ')))\n",
    "s = n.copy()\n",
    "q = []\n",
    "for i in n:\n",
    "    c=0\n",
    "    for j in s:\n",
    "        if j>i:\n",
    "            q.append(j)\n",
    "            c += 1\n",
    "            break\n",
    "    s.pop(0)\n",
    "    if c == 0:\n",
    "        q.append(-1)\n",
    "print(*q, sep = \", \")"
   ],
   "id": "22a3d7509cb1f49"
  }
 ],
 "metadata": {
  "kernelspec": {
   "display_name": "Python 3",
   "language": "python",
   "name": "python3"
  },
  "language_info": {
   "codemirror_mode": {
    "name": "ipython",
    "version": 2
   },
   "file_extension": ".py",
   "mimetype": "text/x-python",
   "name": "python",
   "nbconvert_exporter": "python",
   "pygments_lexer": "ipython2",
   "version": "2.7.6"
  }
 },
 "nbformat": 4,
 "nbformat_minor": 5
}
