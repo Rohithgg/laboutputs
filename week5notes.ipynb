{
 "cells": [
  {
   "cell_type": "code",
   "id": "initial_id",
   "metadata": {
    "collapsed": true,
    "ExecuteTime": {
     "end_time": "2024-08-12T02:52:53.713496Z",
     "start_time": "2024-08-12T02:52:40.502908Z"
    }
   },
   "source": [
    "#represtaion of graph\n",
    "v, e = map(int, input().split(' '))\n",
    "li = [list(map(int, input().split(' '))) for i in range(e)]\n",
    "\n",
    "def adjmat(v, e):\n",
    "    mat = [[0]*v for i in range(v)]\n",
    "    for edge in li:\n",
    "        x, y = edge\n",
    "        mat[x][y] = 1\n",
    "        mat[y][x] = 1\n",
    "    return mat\n",
    "    \n",
    "def adjlist(v, e):\n",
    "    matlis = {}\n",
    "    for i in range(v):\n",
    "        matlis[i] = []\n",
    "        \n",
    "    for edge in li:\n",
    "        x, y = edge\n",
    "        matlis[x].append(y)\n",
    "    for ver, neigh in matlis.items():\n",
    "        print(f\"{ver} : {' '.join(map(str, neigh))}\")\n",
    "    \n",
    "    \n",
    "print(\"Adjacency Matrix\")\n",
    "for i in (adjmat(v, e)):\n",
    "    print(*i, sep = \" \")\n",
    "print(\"Adjacency List\")\n",
    "(adjlist(v, e))"
   ],
   "outputs": [
    {
     "name": "stdout",
     "output_type": "stream",
     "text": [
      "Adjacency Matrix\n",
      "0 1 0 0 0\n",
      "1 0 1 0 0\n",
      "0 1 0 1 0\n",
      "0 0 1 0 1\n",
      "0 0 0 1 0\n",
      "Adjacency List\n",
      "0 : 1\n",
      "1 : 2\n",
      "2 : 3\n",
      "3 : 4\n",
      "4 : \n"
     ]
    }
   ],
   "execution_count": 14
  },
  {
   "metadata": {
    "ExecuteTime": {
     "end_time": "2024-08-12T02:51:49.008878Z",
     "start_time": "2024-08-12T02:51:36.738520Z"
    }
   },
   "cell_type": "code",
   "source": [
    "#conneted components of a graph\n",
    "\n",
    "def dfs(ver, visited, adjlis):\n",
    "    visited[ver - 1] = True\n",
    "    for neighbor in adjlis[ver]:\n",
    "        if not visited[neighbor - 1]:\n",
    "            dfs(neighbor, visited, adjlis)\n",
    "nv, ne = map(int, input().split(\" \"))\n",
    "edges = [list(map(int, input().split(\" \"))) for _ in range(ne)]\n",
    "visited = [False for i in range(nv)]\n",
    "adjlis  = {i+1: [] for i in range(nv)}\n",
    "\n",
    "for v1, v2 in edges:\n",
    "    adjlis[v1].append(v2)\n",
    "    adjlis[v2].append(v1)\n",
    "comp = 0\n",
    "for i in range(1, nv + 1):\n",
    "    if not visited[i - 1]:\n",
    "        comp += 1\n",
    "        dfs(i, visited, adjlis)\n",
    "print(comp)"
   ],
   "id": "c2125510a11024d8",
   "outputs": [
    {
     "name": "stdout",
     "output_type": "stream",
     "text": [
      "1\n"
     ]
    }
   ],
   "execution_count": 12
  },
  {
   "metadata": {
    "ExecuteTime": {
     "end_time": "2024-08-12T02:37:20.448230Z",
     "start_time": "2024-08-12T02:37:02.510692Z"
    }
   },
   "cell_type": "code",
   "source": [
    "#number of sink node\n",
    "def sink(n, m, edges):\n",
    "    mark = [0 for i in range(n+1)]\n",
    "    for i, j in edges:\n",
    "        mark[i] += 1\n",
    "    sinks = [node for node in range(1, n+1) if mark[node] == 0]\n",
    "    return len(sinks)\n",
    "#main\n",
    "n = int(input())\n",
    "m = int(input())\n",
    "edges = [list(map(int, input().split(\" \"))) for _ in range(m)]\n",
    "print(sink(n, m ,edges))"
   ],
   "id": "3dd13f0bf61fc27a",
   "outputs": [
    {
     "name": "stdout",
     "output_type": "stream",
     "text": [
      "1\n"
     ]
    }
   ],
   "execution_count": 6
  },
  {
   "metadata": {
    "ExecuteTime": {
     "end_time": "2024-08-12T02:47:55.168940Z",
     "start_time": "2024-08-12T02:47:48.900811Z"
    }
   },
   "cell_type": "code",
   "source": [
    "#counting good triplets\n",
    "from typing import List\n",
    "def countGoodTriplets(arr: List[int], a: int, b: int, c: int):\n",
    "    count = 0\n",
    "    for i in range(len(arr)-2):\n",
    "        for j in range(i+1, len(arr)-1):\n",
    "            if  abs(arr[i] - arr[j]) <=a:    \n",
    "                for k in range(j+1, len(arr)):\n",
    "                    if abs(arr[j] - arr[k]) <= b and abs(arr[i] - arr[k]) <= c:\n",
    "                        count +=1\n",
    "    return count\n",
    "arr = list(map(int, input().split(\" \")))\n",
    "a = int(input())\n",
    "b = int(input())\n",
    "c = int(input())\n",
    "print(countGoodTriplets(arr, a, b, c))"
   ],
   "id": "fdea112df1b29d69",
   "outputs": [
    {
     "name": "stdout",
     "output_type": "stream",
     "text": [
      "4\n"
     ]
    }
   ],
   "execution_count": 11
  }
 ],
 "metadata": {
  "kernelspec": {
   "display_name": "Python 3",
   "language": "python",
   "name": "python3"
  },
  "language_info": {
   "codemirror_mode": {
    "name": "ipython",
    "version": 2
   },
   "file_extension": ".py",
   "mimetype": "text/x-python",
   "name": "python",
   "nbconvert_exporter": "python",
   "pygments_lexer": "ipython2",
   "version": "2.7.6"
  }
 },
 "nbformat": 4,
 "nbformat_minor": 5
}
