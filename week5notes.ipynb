{
 "cells": [
  {
   "cell_type": "code",
   "execution_count": null,
   "id": "initial_id",
   "metadata": {
    "collapsed": true
   },
   "outputs": [],
   "source": [
    "#represtaion of graph\n",
    "v, e = map(int, input().split(', '))\n",
    "li = [list(map(int, input().split(', '))) for i in range(e)]\n",
    "\n",
    "def adjmat(v, e):\n",
    "    mat = [[0]*v for i in range(v)]\n",
    "    for edge in li:\n",
    "        x, y = edge\n",
    "        mat[x][y] = 1\n",
    "        mat[y][x] = 1\n",
    "    return mat\n",
    "    \n",
    "def adjlist(v, e):\n",
    "    matlis = {}\n",
    "    for i in range(v):\n",
    "        matlis[i] = []\n",
    "        \n",
    "    for edge in li:\n",
    "        x, y = edge\n",
    "        matlis[x].append(y)\n",
    "    for ver, neigh in matlis.items():\n",
    "        print(f\"{ver} : {' '.join(map(str, neigh))}\")\n",
    "    \n",
    "    \n",
    "print(\"Adjacency Matrix\")\n",
    "for i in (adjmat(v, e)):\n",
    "    print(*i, sep = \", \")\n",
    "print(\"Adjacency List\")\n",
    "(adjlist(v, e))"
   ]
  }
 ],
 "metadata": {
  "kernelspec": {
   "display_name": "Python 3",
   "language": "python",
   "name": "python3"
  },
  "language_info": {
   "codemirror_mode": {
    "name": "ipython",
    "version": 2
   },
   "file_extension": ".py",
   "mimetype": "text/x-python",
   "name": "python",
   "nbconvert_exporter": "python",
   "pygments_lexer": "ipython2",
   "version": "2.7.6"
  }
 },
 "nbformat": 4,
 "nbformat_minor": 5
}
